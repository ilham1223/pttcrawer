{
 "cells": [
  {
   "cell_type": "code",
   "execution_count": 1,
   "metadata": {
    "collapsed": false
   },
   "outputs": [],
   "source": [
    "from minding import htmlmind, GetWordFreq\n",
    "from craw import GetHTML, Get18HTML\n",
    "import craw as cw\n",
    "import re\n",
    "from time import sleep\n",
    "from datetime import datetime\n",
    "import requests\n",
    "import numpy as np\n",
    "import matplotlib\n",
    "import matplotlib.pyplot as plt\n",
    "requests.packages.urllib3.disable_warnings()\n",
    "%matplotlib inline"
   ]
  },
  {
   "cell_type": "code",
   "execution_count": 4,
   "metadata": {
    "collapsed": false
   },
   "outputs": [],
   "source": [
    "#獲取C_Chat板上某篇文章中最常出現的詞彙\n",
    "def example1():\n",
    "    url = \"https://www.ptt.cc/bbs/C_Chat/M.1452827989.A.48C.html\"\n",
    "    webhtml = GetHTML(url)\n",
    "    webhtml = webhtml.decode('utf8')\n",
    "    data = htmlmind(webhtml, 1, 3)\n",
    "    for i in range(1, 10):\n",
    "        print data[-i][0], data[-i][1]"
   ]
  },
  {
   "cell_type": "code",
   "execution_count": 8,
   "metadata": {
    "collapsed": false
   },
   "outputs": [],
   "source": [
    "#獲取非18x版面上的關鍵字累計\n",
    "def TitleAdd(BoardNamem, Start, End, Keyword):\n",
    "    board_waiting_list = cw.GetBoardURL(BoardNamem, Start, End)\n",
    "    data = []\n",
    "    ww = Keyword\n",
    "    freq = 0\n",
    "    tt = datetime.today()\n",
    "    TIME1 = tt\n",
    "    TIME2 = tt\n",
    "    counter = 0\n",
    "    for boardurl in board_waiting_list:\n",
    "        board_html = GetHTML(boardurl)\n",
    "        post_waiting_list = cw.GetPostURL(board_html)\n",
    "        print boardurl\n",
    "        freq += GetWordFreq(board_html, ww)\n",
    "        while TIME1 == tt or TIME2 == tt:\n",
    "            i = 0\n",
    "            j = 1\n",
    "            counter += 1\n",
    "            try:\n",
    "                TIME1 = cw.GetPostTime(GetHTML(post_waiting_list[i]))\n",
    "            except:\n",
    "                print \"GET NO TIME1\", post_waiting_list[i]\n",
    "                i += 1\n",
    "            try:\n",
    "                TIME2 = cw.GetPostTime(GetHTML(post_waiting_list[-j]))\n",
    "            except:\n",
    "                print \"GET NO TIME2\", post_waiting_list[-j]\n",
    "                j += 1\n",
    "            if counter>5:\n",
    "                break\n",
    "        data.append([TIME1, TIME2, freq])\n",
    "        return data"
   ]
  },
  {
   "cell_type": "code",
   "execution_count": 7,
   "metadata": {
    "collapsed": false
   },
   "outputs": [],
   "source": [
    "#獲取內文（包含推文）的關鍵字累計\n",
    "#獲取版面上的關鍵字累計\n",
    "def PushAdd(BoardName, Start, End, Keyword):\n",
    "    board_waiting_list = cw.GetBoardURL(BoardName, Start, End)\n",
    "    data = []\n",
    "    ww = Keyword\n",
    "    freq = 0\n",
    "    counter = 0\n",
    "    for boardurl in board_waiting_list:\n",
    "        board_html = GetHTML(boardurl)\n",
    "        post_waiting_list = cw.GetPostURL(board_html)\n",
    "        print board_html\n",
    "        for posturl in post_waiting_list:\n",
    "            sleep(0.5)\n",
    "            posthtml = GetHTML(posturl)\n",
    "            TIME = cw.GetPostTime(posthtml)\n",
    "            freq += GetWordFreq(posthtml, ww)\n",
    "            data.append([TIME, freq, posturl])\n",
    "    return data"
   ]
  },
  {
   "cell_type": "code",
   "execution_count": 12,
   "metadata": {
    "collapsed": false
   },
   "outputs": [],
   "source": [
    "#獲取18x版面上的關鍵字累計\n",
    "def xTitleAdd(BoardName, Start, End, KeyWord):\n",
    "    board_waiting_list = cw.GetBoardURL(BoardName, Start, End)\n",
    "    data = []\n",
    "    ww = KeyWord\n",
    "    freq = 0\n",
    "    tt = datetime.today()\n",
    "    TIME1 = tt\n",
    "    TIME2 = tt\n",
    "    counter = 0\n",
    "    for boardurl in board_waiting_list:\n",
    "        board_html = Get18HTML(boardurl)\n",
    "        post_waiting_list = cw.GetPostURL(board_html)\n",
    "        print boardurl\n",
    "        freq += GetWordFreq(board_html, ww)\n",
    "        while TIME1 == tt or TIME2 == tt:\n",
    "            i = 0\n",
    "            j = 1\n",
    "            counter += 1\n",
    "            try:\n",
    "                TIME1 = cw.GetPostTime(Get18HTML(post_waiting_list[i]))\n",
    "            except:\n",
    "                print \"GET NO TIME1\", post_waiting_list[i]\n",
    "                i += 1\n",
    "            try:\n",
    "                TIME2 = cw.GetPostTime(Get18HTML(post_waiting_list[-j]))\n",
    "            except:\n",
    "                print \"GET NO TIME2\", post_waiting_list[-j]\n",
    "                j += 1\n",
    "            if counter>5:\n",
    "                break\n",
    "        data.append([TIME1, TIME2, freq])\n",
    "        return data"
   ]
  },
  {
   "cell_type": "code",
   "execution_count": 19,
   "metadata": {
    "collapsed": false
   },
   "outputs": [],
   "source": [
    "#獲取18x版面內文（包含推文）的關鍵字累計\n",
    "def xPushAdd(BoardName, Start, End, Key):\n",
    "    board_waiting_list = cw.GetBoardURL(BoardName, Start, End)\n",
    "    data = []\n",
    "    ww = Key\n",
    "    freq = 0\n",
    "    counter = 0\n",
    "    for boardurl in board_waiting_list:\n",
    "        board_html = Get18HTML(boardurl)\n",
    "        post_waiting_list = cw.GetPostURL(board_html)\n",
    "        print boardurl\n",
    "        for posturl in post_waiting_list:\n",
    "            sleep(0.5)\n",
    "            posthtml = Get18HTML(posturl)\n",
    "            try:\n",
    "                TIME = cw.GetPostTime(posthtml)\n",
    "                freq += GetWordFreq(posthtml, ww)\n",
    "                data.append([TIME, freq, posturl])\n",
    "            except:\n",
    "                print \"GET NO TIME \", posturl\n",
    "                print posthtml\n",
    "    return data"
   ]
  },
  {
   "cell_type": "code",
   "execution_count": 26,
   "metadata": {
    "collapsed": false
   },
   "outputs": [],
   "source": [
    "#繪製時間-關鍵字累積量圖\n",
    "def example2():\n",
    "    data = xPushAdd('Gossiping', 10440, 10460, u'黃安')\n",
    "    adata = np.array(data)\n",
    "    dates = matplotlib.dates.date2num(adata[:, 0])\n",
    "    plt.plot_date(dates, adata[:, 1])"
   ]
  },
  {
   "cell_type": "code",
   "execution_count": 27,
   "metadata": {
    "collapsed": false
   },
   "outputs": [
    {
     "name": "stdout",
     "output_type": "stream",
     "text": [
      "https://www.ptt.cc/bbs/Gossiping/index10440.html\n",
      "https://www.ptt.cc/bbs/Gossiping/index10441.html\n",
      "https://www.ptt.cc/bbs/Gossiping/index10442.html\n",
      "https://www.ptt.cc/bbs/Gossiping/index10443.html\n",
      "https://www.ptt.cc/bbs/Gossiping/index10444.html\n",
      "https://www.ptt.cc/bbs/Gossiping/index10445.html\n",
      "https://www.ptt.cc/bbs/Gossiping/index10446.html\n",
      "https://www.ptt.cc/bbs/Gossiping/index10447.html\n",
      "https://www.ptt.cc/bbs/Gossiping/index10448.html\n",
      "https://www.ptt.cc/bbs/Gossiping/index10449.html\n",
      "https://www.ptt.cc/bbs/Gossiping/index10450.html\n",
      "https://www.ptt.cc/bbs/Gossiping/index10451.html\n",
      "https://www.ptt.cc/bbs/Gossiping/index10452.html\n",
      "https://www.ptt.cc/bbs/Gossiping/index10453.html\n",
      "https://www.ptt.cc/bbs/Gossiping/index10454.html\n",
      "https://www.ptt.cc/bbs/Gossiping/index10455.html\n",
      "https://www.ptt.cc/bbs/Gossiping/index10456.html\n",
      "https://www.ptt.cc/bbs/Gossiping/index10457.html\n",
      "https://www.ptt.cc/bbs/Gossiping/index10458.html\n",
      "https://www.ptt.cc/bbs/Gossiping/index10459.html\n"
     ]
    },
    {
     "data": {
      "image/png": "[encoded data removed]",
      "text/plain": [
       "<matplotlib.figure.Figure at 0x110814390>"
      ]
     },
     "metadata": {},
     "output_type": "display_data"
    }
   ],
   "source": [
    "example2()"
   ]
  },
  {
   "cell_type": "code",
   "execution_count": null,
   "metadata": {
    "collapsed": true
   },
   "outputs": [],
   "source": []
  }
 ],
 "metadata": {
  "kernelspec": {
   "display_name": "Python 2",
   "language": "python",
   "name": "python2"
  },
  "language_info": {
   "codemirror_mode": {
    "name": "ipython",
    "version": 2
   },
   "file_extension": ".py",
   "mimetype": "text/x-python",
   "name": "python",
   "nbconvert_exporter": "python",
   "pygments_lexer": "ipython2",
   "version": "2.7.11"
  }
 },
 "nbformat": 4,
 "nbformat_minor": 0
}
